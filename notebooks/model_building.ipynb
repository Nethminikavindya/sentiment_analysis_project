{
 "cells": [
  {
   "cell_type": "code",
   "execution_count": null,
   "id": "9bdb3030-1e87-4123-ab18-f66e60a25cce",
   "metadata": {},
   "outputs": [],
   "source": []
  }
 ],
 "metadata": {
  "kernelspec": {
   "display_name": "",
   "name": ""
  },
  "language_info": {
   "name": ""
  }
 },
 "nbformat": 4,
 "nbformat_minor": 5
}
